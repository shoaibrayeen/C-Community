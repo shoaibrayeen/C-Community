{
 "cells": [
  {
   "cell_type": "code",
   "execution_count": 1,
   "metadata": {},
   "outputs": [],
   "source": [
    "def powerfunc(x,n):\n",
    "    if n==0: # if power is 0 return 1 (base case)\n",
    "        return 1\n",
    "    \n",
    "    if n>0: # if positive power\n",
    "        \n",
    "        small_power=powerfunc(x,n//2) \n",
    "        if n%2==0: # if power is even the answer is (small_power)^2\n",
    "            return small_power*small_power\n",
    "        else:\n",
    "            return x*small_power*small_power #else if power is odd answer is (small_power)^2*x\n",
    "    \n",
    "    else: # if power is negative\n",
    "        \n",
    "        return powerfunc(1/x,abs(n))\n"
   ]
  },
  {
   "cell_type": "code",
   "execution_count": 2,
   "metadata": {},
   "outputs": [
    {
     "name": "stdout",
     "output_type": "stream",
     "text": [
      "5\n",
      "-4\n",
      "0.0016000000000000007\n"
     ]
    }
   ],
   "source": [
    "x=int(input())\n",
    "n=int(input())\n",
    "ans=powerfunc(x,n)\n",
    "print(ans)"
   ]
  },
  {
   "cell_type": "code",
   "execution_count": null,
   "metadata": {},
   "outputs": [],
   "source": []
  }
 ],
 "metadata": {
  "kernelspec": {
   "display_name": "Python 3",
   "language": "python",
   "name": "python3"
  },
  "language_info": {
   "codemirror_mode": {
    "name": "ipython",
    "version": 3
   },
   "file_extension": ".py",
   "mimetype": "text/x-python",
   "name": "python",
   "nbconvert_exporter": "python",
   "pygments_lexer": "ipython3",
   "version": "3.6.6"
  }
 },
 "nbformat": 4,
 "nbformat_minor": 2
}
